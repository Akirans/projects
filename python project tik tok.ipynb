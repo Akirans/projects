{
 "cells": [
  {
   "cell_type": "markdown",
   "id": "1166cd07-4ef0-4d0d-9f66-f7c01b38dd4d",
   "metadata": {},
   "source": [
    "## Creating Tik-Tok Toy Game:"
   ]
  },
  {
   "cell_type": "markdown",
   "id": "d1aaa783-4e59-4667-9309-01d310b5243f",
   "metadata": {},
   "source": [
    "### REQUIRMENT:"
   ]
  },
  {
   "cell_type": "markdown",
   "id": "bc1ec613-614c-43da-a8ab-2b3c63aaa7c6",
   "metadata": {},
   "source": [
    "1] The game board should be three squares by three squares.\n",
    "\n",
    "2] The users should choose their markers, for instance, X and O.\n",
    "\n",
    "3] The game should allow the first player to mark ‘X’ in any one of the squares.\n",
    "\n",
    "4] The game should allow the second player to mark ‘O’ in any of the unmarked squares.\n",
    "\n",
    "5] Players should each take turns marking ‘X’s and ‘O’s until there are no unmarked squares left.\n",
    "\n",
    "6] In the case where at the end, no row, column, or diagonal has the same marker, the game is a draw.\n",
    "\n",
    "7] If any row, column, or diagonal has the same markers, in the end, the player who marked them wins the game.\n",
    "\n",
    "8] The players should be able to start the game again once it is over."
   ]
  },
  {
   "cell_type": "code",
   "execution_count": 1,
   "id": "8666364f-0f5d-4669-be4d-9ee83b1b1a02",
   "metadata": {},
   "outputs": [],
   "source": [
    "# define square:\n",
    "values = {'1': ' ' , '2': ' ' , '3': ' ' ,\n",
    "            '4': ' ' , '5': ' ' , '6': ' ' ,\n",
    "            '7': ' ' , '8': ' ' , '9': ' ' }\n",
    "\n",
    "\n",
    "board_keys = []\n",
    "\n",
    "for key in values:\n",
    "    board_keys.append(key)\n"
   ]
  },
  {
   "cell_type": "code",
   "execution_count": 2,
   "id": "9138bae2-96c9-414e-80c2-60ceedc531c1",
   "metadata": {
    "tags": []
   },
   "outputs": [
    {
     "name": "stdout",
     "output_type": "stream",
     "text": [
      " | | \n",
      "-+-+-\n",
      " | | \n",
      "-+-+-\n",
      " | | \n",
      "-+-+-\n"
     ]
    }
   ],
   "source": [
    "#we create a board with 9 value (3*3)\n",
    "\n",
    "def board(gameboard):\n",
    "    print(gameboard['1'] + '|' +gameboard['2'] + '|'+gameboard['3'])\n",
    "    print('-+-+-')\n",
    "    print(gameboard['4'] + '|' +gameboard['5'] + '|'+gameboard['6'])\n",
    "    print('-+-+-')\n",
    "    print(gameboard['7'] + '|' +gameboard['8'] + '|'+gameboard['9'])\n",
    "    print('-+-+-')\n",
    "    \n",
    "board(values)     "
   ]
  },
  {
   "cell_type": "code",
   "execution_count": 7,
   "id": "3cae6332-018b-4336-b925-affe9153fe0f",
   "metadata": {
    "tags": []
   },
   "outputs": [],
   "source": [
    "#Take input from user:\n",
    "def startplay():\n",
    "\n",
    "    m1 = 'X'   #m1 ==turn\n",
    "    count = 0\n",
    "\n"
   ]
  },
  {
   "cell_type": "code",
   "execution_count": 8,
   "id": "af67c374-0004-41a6-b01d-6751ed24a530",
   "metadata": {},
   "outputs": [
    {
     "name": "stdout",
     "output_type": "stream",
     "text": [
      " | | \n",
      "-+-+-\n",
      " | | \n",
      "-+-+-\n",
      " | | \n",
      "-+-+-\n"
     ]
    },
    {
     "ename": "NameError",
     "evalue": "name 'm1' is not defined",
     "output_type": "error",
     "traceback": [
      "\u001b[1;31m---------------------------------------------------------------------------\u001b[0m",
      "\u001b[1;31mNameError\u001b[0m                                 Traceback (most recent call last)",
      "\u001b[1;32m~\\AppData\\Local\\Temp/ipykernel_11856/3683030068.py\u001b[0m in \u001b[0;36m<module>\u001b[1;34m\u001b[0m\n\u001b[0;32m      1\u001b[0m \u001b[1;32mfor\u001b[0m \u001b[0mi\u001b[0m \u001b[1;32min\u001b[0m \u001b[0mrange\u001b[0m\u001b[1;33m(\u001b[0m\u001b[1;36m10\u001b[0m\u001b[1;33m)\u001b[0m\u001b[1;33m:\u001b[0m\u001b[1;33m\u001b[0m\u001b[1;33m\u001b[0m\u001b[0m\n\u001b[0;32m      2\u001b[0m     \u001b[0mboard\u001b[0m\u001b[1;33m(\u001b[0m\u001b[0mvalues\u001b[0m\u001b[1;33m)\u001b[0m\u001b[1;33m\u001b[0m\u001b[1;33m\u001b[0m\u001b[0m\n\u001b[1;32m----> 3\u001b[1;33m     \u001b[0mprint\u001b[0m\u001b[1;33m(\u001b[0m\u001b[1;34m\"It's your turn,\"\u001b[0m \u001b[1;33m+\u001b[0m \u001b[0mm1\u001b[0m \u001b[1;33m+\u001b[0m \u001b[1;34m\".Move to which place?\"\u001b[0m\u001b[1;33m)\u001b[0m\u001b[1;33m\u001b[0m\u001b[1;33m\u001b[0m\u001b[0m\n\u001b[0m\u001b[0;32m      4\u001b[0m     \u001b[0mmove\u001b[0m\u001b[1;33m=\u001b[0m\u001b[0minput\u001b[0m\u001b[1;33m(\u001b[0m\u001b[1;33m)\u001b[0m\u001b[1;33m\u001b[0m\u001b[1;33m\u001b[0m\u001b[0m\n\u001b[0;32m      5\u001b[0m \u001b[1;33m\u001b[0m\u001b[0m\n",
      "\u001b[1;31mNameError\u001b[0m: name 'm1' is not defined"
     ]
    }
   ],
   "source": [
    "\n",
    "\n",
    "for i in range(10):\n",
    "    board(values)\n",
    "    print(\"It's your turn,\" + m1 + \".Move to which place?\")\n",
    "    move=input()\n",
    "    \n",
    "    #checking the position of square where the place is empty \n",
    "    \n",
    "    if values[move] == ' ':\n",
    "        values[move] = m1\n",
    "        count += 1\n",
    "            \n",
    "    else:\n",
    "        print('That place is alredy filled .\\n Choose some other place')\n",
    "        continue\n",
    "  \n",
    "   \n",
    "            \n",
    "        "
   ]
  },
  {
   "cell_type": "code",
   "execution_count": 11,
   "id": "d69206c0-db77-4a45-af71-3b72d33c8c64",
   "metadata": {},
   "outputs": [
    {
     "ename": "SyntaxError",
     "evalue": "'break' outside loop (Temp/ipykernel_11856/3202978671.py, line 8)",
     "output_type": "error",
     "traceback": [
      "\u001b[1;36m  File \u001b[1;32m\"C:\\Users\\avhal\\AppData\\Local\\Temp/ipykernel_11856/3202978671.py\"\u001b[1;36m, line \u001b[1;32m8\u001b[0m\n\u001b[1;33m    break\u001b[0m\n\u001b[1;37m    ^\u001b[0m\n\u001b[1;31mSyntaxError\u001b[0m\u001b[1;31m:\u001b[0m 'break' outside loop\n"
     ]
    }
   ],
   "source": [
    "# Check the mark position:    \n",
    "   # check if some one won the game\n",
    "if counter >= 5:\n",
    "    if Board['1'] == Board['2'] == Board['3']!=' ' :\n",
    "        board(values)\n",
    "        print(\"\\nGame Over.\\n\")               \n",
    "        print(\" **** \" +m1 + \" won. ****\")               \n",
    "        break      \n",
    "        \n",
    "    elif Board['4'] == Board['5'] == Board['6']!=' ' :\n",
    "        board(values)\n",
    "        print(\"\\nGame Over.\\n\")               \n",
    "        print(\" **** \" +m1 + \" won. ****\")               \n",
    "        break   \n",
    "        \n",
    "    elif Board['7'] == Board['8'] == Board['9']!=' ' :\n",
    "        board(values)\n",
    "        print(\"\\nGame Over.\\n\")               \n",
    "        print(\" **** \" +m1 + \" won. ****\")               \n",
    "        break  \n",
    "        \n",
    "    elif Board['1'] == Board['4'] == Board['7']!=' ' :\n",
    "        board(values)\n",
    "        print(\"\\nGame Over.\\n\")               \n",
    "        print(\" **** \" +m1 + \" won. ****\")               \n",
    "        break  \n",
    "        \n",
    "    elif Board['2'] == Board['5'] == Board['8']!=' ' :\n",
    "        board(values)\n",
    "        print(\"\\nGame Over.\\n\")               \n",
    "        print(\" **** \" +m1 + \" won. ****\")               \n",
    "        break\n",
    "        \n",
    "    elif Board['3'] == Board['6'] == Board['9']!=' ' :\n",
    "        board(values)\n",
    "        print(\"\\nGame Over.\\n\")               \n",
    "        print(\" **** \" +m1 + \" won. ****\")               \n",
    "        break\n",
    "        \n",
    "    elif Board['1'] == Board['5'] == Board['9']!=' ' :\n",
    "        board(values)\n",
    "        print(\"\\nGame Over.\\n\")               \n",
    "        print(\" **** \" +m1 + \" won. ****\")               \n",
    "        break\n",
    "        \n",
    "    elif Board['3'] == Board['5'] == Board['7']!=' ' :\n",
    "        board(values)\n",
    "        print(\"\\nGame Over.\\n\")               \n",
    "        print(\" **** \" +m1 + \" won. ****\")               \n",
    "\n",
    "break\n",
    "#if the above condition is not satisfied then checking values:\n",
    "\n",
    "if counter==9:\n",
    "    print('GAME IS ON TIE')\n",
    "    break\n",
    "if m1 =='X':\n",
    "    m1 = 'O'\n",
    "else:\n",
    "    m1 = 'X'     \n",
    "    \n",
    "    "
   ]
  },
  {
   "cell_type": "code",
   "execution_count": 12,
   "id": "55163dec-c710-4fed-9200-4b9cb2b9a4e7",
   "metadata": {},
   "outputs": [
    {
     "name": "stdin",
     "output_type": "stream",
     "text": [
      "Do want to play it again?(y/n) y\n"
     ]
    }
   ],
   "source": [
    "#if user want to play game again\n",
    "reset = input(\"Do want to play it again?(y/n)\")\n",
    "\n",
    "if reset == \"Y\" or reset == \"y\": \n",
    "\n",
    "    for i in board_keys:\n",
    "        values[i] = \" \"\n",
    "    \n",
    "    startplay()   "
   ]
  },
  {
   "cell_type": "code",
   "execution_count": null,
   "id": "d143c530-8e9f-4ad1-8bfb-7268cec0a768",
   "metadata": {
    "tags": []
   },
   "outputs": [
    {
     "name": "stdin",
     "output_type": "stream",
     "text": [
      "Do want to play it again?(y/n) y\n"
     ]
    },
    {
     "name": "stdout",
     "output_type": "stream",
     "text": [
      " | | \n",
      "-+-+-\n",
      " | | \n",
      "-+-+-\n",
      " | | \n",
      "It's your turn,X.Move to which place?\n"
     ]
    },
    {
     "name": "stdin",
     "output_type": "stream",
     "text": [
      " 5\n"
     ]
    },
    {
     "name": "stdout",
     "output_type": "stream",
     "text": [
      " | | \n",
      "-+-+-\n",
      " |X| \n",
      "-+-+-\n",
      " | | \n",
      "It's your turn,O.Move to which place?\n"
     ]
    },
    {
     "name": "stdin",
     "output_type": "stream",
     "text": [
      " 2\n"
     ]
    },
    {
     "name": "stdout",
     "output_type": "stream",
     "text": [
      " |O| \n",
      "-+-+-\n",
      " |X| \n",
      "-+-+-\n",
      " | | \n",
      "It's your turn,X.Move to which place?\n"
     ]
    },
    {
     "name": "stdin",
     "output_type": "stream",
     "text": [
      " 2\n"
     ]
    },
    {
     "name": "stdout",
     "output_type": "stream",
     "text": [
      "That place is already filled.\n",
      "Move to which place?\n",
      " |O| \n",
      "-+-+-\n",
      " |X| \n",
      "-+-+-\n",
      " | | \n",
      "It's your turn,X.Move to which place?\n"
     ]
    },
    {
     "name": "stdin",
     "output_type": "stream",
     "text": [
      " 8\n"
     ]
    },
    {
     "name": "stdout",
     "output_type": "stream",
     "text": [
      " |O| \n",
      "-+-+-\n",
      " |X| \n",
      "-+-+-\n",
      " |X| \n",
      "It's your turn,O.Move to which place?\n"
     ]
    },
    {
     "name": "stdin",
     "output_type": "stream",
     "text": [
      " 8\n"
     ]
    },
    {
     "name": "stdout",
     "output_type": "stream",
     "text": [
      "That place is already filled.\n",
      "Move to which place?\n",
      " |O| \n",
      "-+-+-\n",
      " |X| \n",
      "-+-+-\n",
      " |X| \n",
      "It's your turn,O.Move to which place?\n"
     ]
    },
    {
     "name": "stdin",
     "output_type": "stream",
     "text": [
      " 2\n"
     ]
    },
    {
     "name": "stdout",
     "output_type": "stream",
     "text": [
      "That place is already filled.\n",
      "Move to which place?\n",
      " |O| \n",
      "-+-+-\n",
      " |X| \n",
      "-+-+-\n",
      " |X| \n",
      "It's your turn,O.Move to which place?\n"
     ]
    },
    {
     "name": "stdin",
     "output_type": "stream",
     "text": [
      " 1\n"
     ]
    },
    {
     "name": "stdout",
     "output_type": "stream",
     "text": [
      "O|O| \n",
      "-+-+-\n",
      " |X| \n",
      "-+-+-\n",
      " |X| \n",
      "It's your turn,X.Move to which place?\n"
     ]
    },
    {
     "name": "stdin",
     "output_type": "stream",
     "text": [
      " 3\n"
     ]
    },
    {
     "name": "stdout",
     "output_type": "stream",
     "text": [
      "O|O|X\n",
      "-+-+-\n",
      " |X| \n",
      "-+-+-\n",
      " |X| \n",
      "It's your turn,O.Move to which place?\n"
     ]
    },
    {
     "name": "stdin",
     "output_type": "stream",
     "text": [
      " 4\n"
     ]
    },
    {
     "name": "stdout",
     "output_type": "stream",
     "text": [
      "O|O|X\n",
      "-+-+-\n",
      "O|X| \n",
      "-+-+-\n",
      " |X| \n",
      "It's your turn,X.Move to which place?\n"
     ]
    },
    {
     "name": "stdin",
     "output_type": "stream",
     "text": [
      " 7\n"
     ]
    },
    {
     "name": "stdout",
     "output_type": "stream",
     "text": [
      "O|O|X\n",
      "-+-+-\n",
      "O|X| \n",
      "-+-+-\n",
      "X|X| \n",
      "\n",
      "Game Over.\n",
      "\n",
      " **** X won. ****\n"
     ]
    }
   ],
   "source": [
    "##### combine the game :\n",
    "# define values:\n",
    "values = {'1': ' ' , '2': ' ' , '3': ' ' ,\n",
    "            '4': ' ' , '5': ' ' , '6': ' ' ,\n",
    "            '7': ' ' , '8': ' ' , '9': ' ' }\n",
    "\n",
    "\n",
    "board_keys = []\n",
    "\n",
    "for key in values:\n",
    "    board_keys.append(key)\n",
    "#we create a board with 9 value (3*3)\n",
    "\n",
    "def board(gameboard):\n",
    "    print(gameboard['1'] + '|' +gameboard['2'] + '|' +gameboard['3'])\n",
    "    print('-+-+-')\n",
    "    print(gameboard['4'] + '|' +gameboard['5'] + '|' +gameboard['6'])\n",
    "    print('-+-+-')\n",
    "    print(gameboard['7'] + '|' +gameboard['8'] + '|' +gameboard['9'])\n",
    "    \n",
    "    \n",
    "      \n",
    "#Take input from user:\n",
    "def startplay():\n",
    "\n",
    "    m1 = 'X'\n",
    "    count = 0\n",
    "\n",
    "\n",
    "    for i in range(10):\n",
    "        board(values)    #calling function \n",
    "        print(\"It's your turn,\" + m1 + \".Move to which place?\")\n",
    "\n",
    "        enter = input()        \n",
    "\n",
    "        if values[enter] == ' ':      #if u entered 1 at the input it checks values[1] position if empty is==m1\n",
    "            values[enter] = m1\n",
    "            count += 1\n",
    "        else:\n",
    "            print(\"That place is already filled.\\nMove to which place?\")\n",
    "            continue\n",
    "\n",
    "   # check if some one won the game\n",
    "        if count >= 5:\n",
    "            if values['1'] == values['2'] == values['3']!=' ':\n",
    "                board(values)\n",
    "                print(\"\\nGame Over.\\n\")               \n",
    "                print(\" **** \" +m1 + \" won. ****\")               \n",
    "                break      \n",
    "        \n",
    "            elif values['4'] == values['5'] == values['6']!=' ':\n",
    "                board(values)\n",
    "                print(\"\\nGame Over.\\n\")               \n",
    "                print(\" **** \" +m1 + \" won. ****\")               \n",
    "                break   \n",
    "        \n",
    "            elif values['7'] == values['8'] == values['9']!=' ':\n",
    "                board(values)\n",
    "                print(\"\\nGame Over.\\n\")               \n",
    "                print(\" **** \" +m1 + \" won. ****\")               \n",
    "                break  \n",
    "        \n",
    "            elif values['1'] == values['4'] == values['7']!=' ':\n",
    "                board(values)\n",
    "                print(\"\\nGame Over.\\n\")               \n",
    "                print(\" **** \" +m1 + \" won. ****\")               \n",
    "                break  \n",
    "        \n",
    "            elif values['2'] == values['5'] == values['8']!=' ':\n",
    "                board(values)\n",
    "                print(\"\\nGame Over.\\n\")               \n",
    "                print(\" **** \" +m1 + \" won. ****\")               \n",
    "                break\n",
    "        \n",
    "            elif values['3'] == values['6'] == values['9']!=' ':\n",
    "                board(values)\n",
    "                print(\"\\nGame Over.\\n\")               \n",
    "                print(\" **** \" +m1 + \" won. ****\")               \n",
    "                break\n",
    "        \n",
    "            elif values['1'] == values['5'] == values['9']!=' ':\n",
    "                board(values)\n",
    "                print(\"\\nGame Over.\\n\")               \n",
    "                print(\" **** \" +m1 + \" won. ****\")               \n",
    "                break\n",
    "        \n",
    "            elif values['3'] == values['5'] == values['7']!=' ':\n",
    "                board(values)\n",
    "                print(\"\\nGame Over.\\n\")               \n",
    "                print(\" **** \" +m1 + \" won. ****\")               \n",
    "\n",
    "    \n",
    "    #if the above condition is not satisfied then checking values:\n",
    "\n",
    "        if count==9:\n",
    "            print(\"\\nGame Over.\\n\")                \n",
    "            print(\"It's a Tie!!\")\n",
    "            \n",
    "        if m1 =='X':\n",
    "            m1 = 'O'\n",
    "        else:\n",
    "            m1 = 'X' \n",
    "        \n",
    "\n",
    "reset = input(\"Do want to play it again?(y/n)\")\n",
    "\n",
    "if reset == \"Y\" or reset == \"y\": \n",
    "\n",
    "    for i in board_keys:\n",
    "        values[i] = \" \"\n",
    "    \n",
    "    startplay()    \n",
    "\n",
    "    \n",
    "        "
   ]
  }
 ],
 "metadata": {
  "kernelspec": {
   "display_name": "Python 3 (ipykernel)",
   "language": "python",
   "name": "python3"
  },
  "language_info": {
   "codemirror_mode": {
    "name": "ipython",
    "version": 3
   },
   "file_extension": ".py",
   "mimetype": "text/x-python",
   "name": "python",
   "nbconvert_exporter": "python",
   "pygments_lexer": "ipython3",
   "version": "3.9.7"
  }
 },
 "nbformat": 4,
 "nbformat_minor": 5
}
