{
 "cells": [
  {
   "cell_type": "markdown",
   "id": "aeb2ebb3-70f7-413d-80f1-84ae1b91b278",
   "metadata": {},
   "source": [
    "#### Happy Numbers - \n",
    "A happy number is defined by the following process.\n",
    "1]Starting with any positive integer, replace the number by the sum of the squares of its digits, and repeat the process until the number equals 1 (where it will stay),\n",
    "\n",
    "2]or it loops endlessly in a cycle which does not include 1.\n",
    "\n",
    "3]Those numbers for which this process ends in 1 are happy numbers, while those that do not end in 1 are unhappy numbers. Display an example of your output here. Find first 8 happy numbers."
   ]
  },
  {
   "cell_type": "code",
   "execution_count": 43,
   "id": "784d392e-b149-4fdc-8a46-53131e46e374",
   "metadata": {},
   "outputs": [
    {
     "name": "stdout",
     "output_type": "stream",
     "text": [
      "concept_example\n",
      "8\n",
      "14\n",
      "14\n",
      "3\n",
      "OUTPUT\n",
      " The entered number is happy\n",
      " The entered number is happy\n",
      " The entered number is happy\n",
      " The entered number is happy\n",
      " The entered number is happy\n",
      " The entered number is happy\n",
      " The entered number is happy\n",
      " The entered number is happy\n"
     ]
    }
   ],
   "source": [
    "#concept \n",
    "#how it works:\n",
    "#19 is Happy Number,\n",
    "print(\"concept_example\")\n",
    "print(1^2 + 9^2 )  # 82\n",
    "print(8^2 + 2^2)   # 64+4=68\n",
    "print(6^2 + 8^2 )  #= 100\n",
    "print(1^2 + 0^2 + 0^2) #= 1+0+0=1\n",
    "\n",
    "#defining function \n",
    "def happy_n(n):\n",
    "  store = set()  # set used for store the unique varriable:\n",
    "  while n != 1:\n",
    "        n = sum(int(i)**2 for i in str(n))\n",
    "        if n in store:\n",
    "            return 'Pls try again'\n",
    "        store.add(n)\n",
    "  return \" The entered number is happy\"\n",
    "\n",
    "\n",
    "print(\"OUTPUT\")\n",
    "print(happy_n(1))\n",
    "print(happy_n(7))\n",
    "print(happy_n(13))\n",
    "print(happy_n(19))\n",
    "print(happy_n(23))\n",
    "print(happy_n(28))\n",
    "print(happy_n(31))\n",
    "print(happy_n(32))"
   ]
  },
  {
   "cell_type": "markdown",
   "id": "976decdb-788f-4da7-9daf-63c096c89662",
   "metadata": {},
   "source": [
    "#### Reverse a String - \n",
    "Enter a string and the program will reverse it and print it out."
   ]
  },
  {
   "cell_type": "code",
   "execution_count": 44,
   "id": "f6da26c6-928f-4171-91c6-6ca16e457d04",
   "metadata": {},
   "outputs": [
    {
     "data": {
      "text/plain": [
       "'eht'"
      ]
     },
     "execution_count": 44,
     "metadata": {},
     "output_type": "execute_result"
    }
   ],
   "source": [
    "def str_n(p):\n",
    "    return p[::-1]\n",
    "str_n(\"the\")"
   ]
  },
  {
   "cell_type": "code",
   "execution_count": 45,
   "id": "7f22a36a-11f1-4469-9fe3-9d536fac119d",
   "metadata": {},
   "outputs": [
    {
     "name": "stdout",
     "output_type": "stream",
     "text": [
      ".gnirts esrever fo elpmaxe si siht olleH\n"
     ]
    }
   ],
   "source": [
    "#the string\n",
    "str = \"Hello this is example of reverse string.\"\n",
    "\n",
    "#convert string to list of chars\n",
    "str_list = list(str)\n",
    "\n",
    "#reverse the list\n",
    "str_list.reverse()\n",
    "\n",
    "#join the list items\n",
    "reversed = ''.join(str_list)\n",
    "\n",
    "#print reversed string\n",
    "print(reversed)"
   ]
  },
  {
   "cell_type": "markdown",
   "id": "1aac0931-91fb-4418-a5d9-93583c2e8111",
   "metadata": {},
   "source": [
    "#### Fizz Buzz -\n",
    "Write a program that prints the numbers from 1 to 100. But for multiples of three print “Fizz” instead of the number and for the multiples of five print “Buzz”. For numbers which are multiples of both three and five print “FizzBuzz”."
   ]
  },
  {
   "cell_type": "code",
   "execution_count": 47,
   "id": "45147fe2-5f5d-4a55-9934-72297e25c32e",
   "metadata": {},
   "outputs": [
    {
     "name": "stdout",
     "output_type": "stream",
     "text": [
      "1\n",
      "2\n",
      "fizz\n",
      "4\n",
      "buzz\n",
      "fizz\n",
      "7\n",
      "8\n",
      "fizz\n",
      "buzz\n",
      "11\n",
      "fizz\n",
      "13\n",
      "14\n",
      "fizz buzz\n",
      "16\n",
      "17\n",
      "fizz\n",
      "19\n",
      "buzz\n",
      "fizz\n",
      "22\n",
      "23\n",
      "fizz\n",
      "buzz\n",
      "26\n",
      "fizz\n",
      "28\n",
      "29\n",
      "fizz buzz\n",
      "31\n",
      "32\n",
      "fizz\n",
      "34\n",
      "buzz\n",
      "fizz\n",
      "37\n",
      "38\n",
      "fizz\n",
      "buzz\n",
      "41\n",
      "fizz\n",
      "43\n",
      "44\n",
      "fizz buzz\n",
      "46\n",
      "47\n",
      "fizz\n",
      "49\n",
      "buzz\n",
      "fizz\n",
      "52\n",
      "53\n",
      "fizz\n",
      "buzz\n",
      "56\n",
      "fizz\n",
      "58\n",
      "59\n",
      "fizz buzz\n",
      "61\n",
      "62\n",
      "fizz\n",
      "64\n",
      "buzz\n",
      "fizz\n",
      "67\n",
      "68\n",
      "fizz\n",
      "buzz\n",
      "71\n",
      "fizz\n",
      "73\n",
      "74\n",
      "fizz buzz\n",
      "76\n",
      "77\n",
      "fizz\n",
      "79\n",
      "buzz\n",
      "fizz\n",
      "82\n",
      "83\n",
      "fizz\n",
      "buzz\n",
      "86\n",
      "fizz\n",
      "88\n",
      "89\n",
      "fizz buzz\n",
      "91\n",
      "92\n",
      "fizz\n",
      "94\n",
      "buzz\n",
      "fizz\n",
      "97\n",
      "98\n",
      "fizz\n"
     ]
    }
   ],
   "source": [
    "#in range of 1-100 if value is divided by 3 print fizz and by 5 print buzz if value is divisiol by both print fizz buzz:\n",
    "for i in list(range(1,100)):\n",
    "    if i%3==0 and i%5==0:\n",
    "        print('fizz buzz')\n",
    "    elif i%3==0:\n",
    "        print('fizz')\n",
    "    elif i%5==0:\n",
    "        print('buzz')\n",
    "    else:\n",
    "        print(i)"
   ]
  },
  {
   "cell_type": "markdown",
   "id": "41e1ea68-9adb-41d7-beb3-25e9bc788c71",
   "metadata": {},
   "source": [
    "#### class:"
   ]
  },
  {
   "cell_type": "code",
   "execution_count": 35,
   "id": "16a180ac-2a04-40ad-95fd-bc2371b1dd1f",
   "metadata": {},
   "outputs": [
    {
     "name": "stdout",
     "output_type": "stream",
     "text": [
      "Hello pavan. Hello user welcome to our Bank Facility Center\n"
     ]
    },
    {
     "name": "stdin",
     "output_type": "stream",
     "text": [
      "Enter amount to be deposited:  45000\n"
     ]
    },
    {
     "name": "stdout",
     "output_type": "stream",
     "text": [
      "Available balance is : 45000 \n",
      "\n"
     ]
    }
   ],
   "source": [
    "class Bank_Serv:\n",
    "    #class_varriable\n",
    "    balance=0\n",
    "     #constructor \n",
    "    def __init__(self, Pearson_name):\n",
    "        self.Pearson_name = Pearson_name \n",
    "        print(f'Hello {self.Pearson_name}. Hello user welcome to our Bank Facility Center')\n",
    "        \n",
    "        \n",
    "    def create_account(self):\n",
    "        creating_account = input(\"Enter full_name amount: \")\n",
    "        Pearson_age = int(input(\"Enter the pearsons age : \"))\n",
    "        Last_dA = int(input(\"Enter the last four digit of Adhar: \"))\n",
    "        D_Amount = int(input(\"Enter Deposite  amount: \"))\n",
    "        print(f' Hello User your Account Created Sucessfully with Fixed Amount of:  {D_Amount} \\n')\n",
    "    #instance methods\n",
    "    def deposit_cash(self):\n",
    "        amount = int(input(\"Enter amount to be deposited: \"))\n",
    "        self.balance += amount\n",
    "        print(f'Available balance is : {self.balance} \\n')\n",
    "\n",
    "    def withdrawal(self):\n",
    "        withdraw_amount = int(input(\"Enter withdrawan amount: \"))\n",
    "\n",
    "        if self.balance >= withdraw_amount :\n",
    "            print(f'\\nWithdrawl amount : {withdraw_amount} \\n')\n",
    "            self.balance -= withdraw_amount\n",
    "            print(f\"Updated balance : {self.balance} \\n\")\n",
    "        else:\n",
    "            print(f'Insufficient amount ')\n",
    "            print(f\"Available balance to withdraw : {self.balance} \\n\")\n",
    "\n",
    "    def show_balance(self):\n",
    "        print(f\"Available balance is : {self.balance} \\n\")\n",
    "\n",
    "#creating object:  \n",
    "#in object we have to provide user name\n",
    "A=Bank_Serv('pavan')\n",
    "\n",
    "A.deposit_cash()\n"
   ]
  },
  {
   "cell_type": "markdown",
   "id": "090a3493-84d1-40c8-8571-b96dc1db3be3",
   "metadata": {},
   "source": [
    "### Fetch Current Weather "
   ]
  },
  {
   "cell_type": "code",
   "execution_count": 2,
   "id": "fec75e96-4000-451c-84a4-e5392f8b6992",
   "metadata": {},
   "outputs": [
    {
     "name": "stdin",
     "output_type": "stream",
     "text": [
      "Enter the Name of City ->  pune\n"
     ]
    },
    {
     "name": "stdout",
     "output_type": "stream",
     "text": [
      "Searching...\n",
      "\n",
      "Pune, Maharashtra\n",
      "35°C\n"
     ]
    }
   ],
   "source": [
    "#BeautifulSoup: It is a library in python used to extract data from HTML and XML files\n",
    "from bs4 import BeautifulSoup\n",
    "# Requests: Here we will use Python’s requests module to make HTTP requests\n",
    "\n",
    "import requests\n",
    "headers = {\n",
    "    'User-Agent': 'Mozilla/5.0 (Windows NT 10.0; Win64; x64) AppleWebKit/537.36 (KHTML, like Gecko) Chrome/58.0.3029.110 Safari/537.3'}\n",
    " \n",
    "\n",
    "\n",
    "\n",
    "def weather(city):\n",
    "    city = city.replace(\" \", \"+\")\n",
    "    res = requests.get(f'https://www.google.com/search?q={city}&oq={city}&aqs=chrome.0.35i39l2j0l4j46j69i60.6128j1j7&sourceid=chrome&ie=UTF-8', headers=headers)\n",
    "    print(\"Searching...\\n\")\n",
    "    soup = BeautifulSoup(res.text, 'html.parser')\n",
    "    location = soup.select('#wob_loc')[0].getText().strip()\n",
    "\n",
    "    weather = soup.select('#wob_tm')[0].getText().strip()\n",
    "    print(location)\n",
    "        \n",
    "    print(weather+\"°C\")\n",
    "\n",
    "\n",
    "city = input(\"Enter the Name of City -> \")\n",
    "city = city+\" weather\"\n",
    "weather(city)\n",
    "\n",
    "\n"
   ]
  },
  {
   "cell_type": "code",
   "execution_count": null,
   "id": "a29f61ce-6098-4043-992e-dfed9aa4156f",
   "metadata": {},
   "outputs": [],
   "source": []
  },
  {
   "cell_type": "code",
   "execution_count": null,
   "id": "26638093-9c42-4f07-a75c-efb798255514",
   "metadata": {},
   "outputs": [],
   "source": []
  },
  {
   "cell_type": "code",
   "execution_count": null,
   "id": "754ed799-e657-4581-9079-0a742219efb2",
   "metadata": {},
   "outputs": [],
   "source": []
  }
 ],
 "metadata": {
  "kernelspec": {
   "display_name": "Python 3 (ipykernel)",
   "language": "python",
   "name": "python3"
  },
  "language_info": {
   "codemirror_mode": {
    "name": "ipython",
    "version": 3
   },
   "file_extension": ".py",
   "mimetype": "text/x-python",
   "name": "python",
   "nbconvert_exporter": "python",
   "pygments_lexer": "ipython3",
   "version": "3.9.7"
  }
 },
 "nbformat": 4,
 "nbformat_minor": 5
}
